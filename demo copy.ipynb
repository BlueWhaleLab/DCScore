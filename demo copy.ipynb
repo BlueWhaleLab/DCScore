{
 "cells": [
  {
   "cell_type": "markdown",
   "id": "4b59bdc3",
   "metadata": {},
   "source": [
    "# Diversity Evaluation on Text Modality"
   ]
  },
  {
   "cell_type": "code",
   "execution_count": 4,
   "id": "522135e1-be76-4d81-ad48-9d418ff864f4",
   "metadata": {},
   "outputs": [],
   "source": [
    "import torch\n",
    "from datasets import load_dataset\n",
    "from dcscore_function import DCScore\n",
    "\n",
    "# parameter settings\n",
    "model_path_dict = {\n",
    "                    'bert':'path/to/bert-base-uncased',\n",
    "                    'simcse':'path/to/unsup-simcse-bert-base-uncased',\n",
    "                    'llama2-7b':'path/to/llama-2-7b-hf',\n",
    "                    'gpt2':'path/to/gpt2',\n",
    "                    'bge': 'path/to/bge-large-en-v1.5',\n",
    "                    'sen_bert': 'path/to/all-mpnet-base-v2'\n",
    "                  }\n",
    "model_name = 'sen_bert'\n",
    "model_path = model_path_dict[model_name]\n",
    "device = \"cuda\" if torch.cuda.is_available() else \"CPU\"\n",
    "batch_size = 128\n",
    "tau = 1\n",
    "kernel_type = 'cs'\n",
    "\n",
    "# evaluated dataset\n",
    "text_list = ['who are you', 'I am fine', 'good job']\n",
    "\n",
    "# dcscore class\n",
    "dcscore_evaluator = DCScore(model_path)\n",
    "\n",
    "# get embedding\n",
    "embeddings, n, d = dcscore_evaluator.get_embedding(text_list, batch_size=batch_size)\n",
    "\n",
    "# calculate dcscore based on embedding\n",
    "dataset_dcscore = dcscore_evaluator.calculate_dcscore_by_embedding(embeddings, kernel_type=kernel_type, tau=tau)\n"
   ]
  },
  {
   "cell_type": "markdown",
   "id": "5e70d283",
   "metadata": {},
   "source": [
    "# Diversity Evaluation on Visual Modality"
   ]
  },
  {
   "cell_type": "code",
   "execution_count": 1,
   "id": "b68bc8b2-fc71-4313-ae6e-8a3398a7a409",
   "metadata": {
    "jp-MarkdownHeadingCollapsed": true
   },
   "outputs": [
    {
     "name": "stderr",
     "output_type": "stream",
     "text": [
      "Using cache found in /root/.cache/torch/hub/facebookresearch_dinov2_main\n",
      "/root/.cache/torch/hub/facebookresearch_dinov2_main/dinov2/layers/swiglu_ffn.py:51: UserWarning: xFormers is not available (SwiGLU)\n",
      "  warnings.warn(\"xFormers is not available (SwiGLU)\")\n",
      "/root/.cache/torch/hub/facebookresearch_dinov2_main/dinov2/layers/attention.py:33: UserWarning: xFormers is not available (Attention)\n",
      "  warnings.warn(\"xFormers is not available (Attention)\")\n",
      "/root/.cache/torch/hub/facebookresearch_dinov2_main/dinov2/layers/block.py:40: UserWarning: xFormers is not available (Block)\n",
      "  warnings.warn(\"xFormers is not available (Block)\")\n",
      "                                                                         "
     ]
    }
   ],
   "source": [
    "import torch\n",
    "from datasets import load_dataset\n",
    "from dcscore_function import DCScore\n",
    "from ImageFilesDataset import ImageFilesDataset\n",
    "\n",
    "# parameter settings\n",
    "model_name = 'dinov2'\n",
    "device = \"cuda\" if torch.cuda.is_available() else \"CPU\"\n",
    "batch_size = 128\n",
    "tau = 1\n",
    "kernel_type = 'cs'\n",
    "sampel_num = 4\n",
    "\n",
    "# evaluated dataset\n",
    "img_pth = './demo_images'\n",
    "dataset = ImageFilesDataset(img_pth, name='None', extension='JPEG', n=sampel_num, conditional=False)\n",
    "\n",
    "# dcscore class\n",
    "dcscore_evaluator = DCScore(model_name)\n",
    "\n",
    "# get embedding\n",
    "embeddings, n, d = dcscore_evaluator.get_embedding(dataset, batch_size=batch_size)\n",
    "\n",
    "# calculate dcscore based on embedding\n",
    "dataset_dcscore = dcscore_evaluator.calculate_dcscore_by_embedding(embeddings, kernel_type=kernel_type, tau=tau)\n"
   ]
  },
  {
   "cell_type": "code",
   "execution_count": 2,
   "id": "63751605-3225-465a-bfd4-9dde80377819",
   "metadata": {},
   "outputs": [
    {
     "data": {
      "text/plain": [
       "4.0"
      ]
     },
     "execution_count": 2,
     "metadata": {},
     "output_type": "execute_result"
    }
   ],
   "source": [
    "dataset_dcscore"
   ]
  },
  {
   "cell_type": "code",
   "execution_count": null,
   "id": "9bcfea1f-0002-4a04-89b6-bf2561971b7e",
   "metadata": {},
   "outputs": [],
   "source": []
  }
 ],
 "metadata": {
  "kernelspec": {
   "display_name": "Python 3 (ipykernel)",
   "language": "python",
   "name": "python3"
  },
  "language_info": {
   "codemirror_mode": {
    "name": "ipython",
    "version": 3
   },
   "file_extension": ".py",
   "mimetype": "text/x-python",
   "name": "python",
   "nbconvert_exporter": "python",
   "pygments_lexer": "ipython3",
   "version": "3.8.8"
  }
 },
 "nbformat": 4,
 "nbformat_minor": 5
}
