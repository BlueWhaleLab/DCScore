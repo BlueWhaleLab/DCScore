{
 "cells": [
  {
   "cell_type": "code",
   "execution_count": 4,
   "id": "522135e1-be76-4d81-ad48-9d418ff864f4",
   "metadata": {
    "execution": {
     "iopub.execute_input": "2024-11-25T14:58:10.459693Z",
     "iopub.status.busy": "2024-11-25T14:58:10.459246Z",
     "iopub.status.idle": "2024-11-25T14:58:11.089717Z",
     "shell.execute_reply": "2024-11-25T14:58:11.088423Z",
     "shell.execute_reply.started": "2024-11-25T14:58:10.459666Z"
    }
   },
   "outputs": [],
   "source": [
    "import torch\n",
    "from datasets import load_dataset\n",
    "from dcscore_function import DCScore\n",
    "\n",
    "# parameter settings\n",
    "model_path_dict = {\n",
    "                    'bert':'./model_weights/bert-base-uncased',\n",
    "                    'simcse':'./model_weights/unsup-simcse-bert-base-uncased',\n",
    "                    'llama2-7b':'./model_weights/llama-2-7b-hf',\n",
    "                    'gpt2':'./model_weights/gpt2',\n",
    "                    'bge': './model_weights/bge-large-en-v1.5',\n",
    "                    'sen_bert': './model_weights/all-mpnet-base-v2'\n",
    "                  }\n",
    "model_name = 'sen_bert'\n",
    "model_path = model_path_dict[model_name]\n",
    "device = \"cuda\" if torch.cuda.is_available() else \"CPU\"\n",
    "batch_size = 128\n",
    "tau = 1\n",
    "kernel_type = 'cs'\n",
    "\n",
    "# evaluated dataset\n",
    "text_list = ['who are you', 'I am fine', 'good job']\n",
    "\n",
    "# dcscore class\n",
    "dcscore_evaluator = DCScore(model_path)\n",
    "\n",
    "# get embedding\n",
    "embeddings, n, d = dcscore_evaluator.get_embedding(text_list, batch_size=batch_size)\n",
    "\n",
    "# calculate dcscore based on embedding\n",
    "dataset_dcscore = dcscore_evaluator.calculate_dcscore_by_embedding(embeddings, kernel_type=kernel_type, tau=tau)\n"
   ]
  }
 ],
 "metadata": {
  "kernelspec": {
   "display_name": "Python 3 (ipykernel)",
   "language": "python",
   "name": "python3"
  },
  "language_info": {
   "codemirror_mode": {
    "name": "ipython",
    "version": 3
   },
   "file_extension": ".py",
   "mimetype": "text/x-python",
   "name": "python",
   "nbconvert_exporter": "python",
   "pygments_lexer": "ipython3",
   "version": "3.10.14"
  }
 },
 "nbformat": 4,
 "nbformat_minor": 5
}
